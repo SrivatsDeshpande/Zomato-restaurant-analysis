{
 "cells": [
  {
   "cell_type": "code",
   "execution_count": 1,
   "id": "f95864ba",
   "metadata": {},
   "outputs": [
    {
     "data": {
      "text/html": [
       "<div>\n",
       "<style scoped>\n",
       "    .dataframe tbody tr th:only-of-type {\n",
       "        vertical-align: middle;\n",
       "    }\n",
       "\n",
       "    .dataframe tbody tr th {\n",
       "        vertical-align: top;\n",
       "    }\n",
       "\n",
       "    .dataframe thead th {\n",
       "        text-align: right;\n",
       "    }\n",
       "</style>\n",
       "<table border=\"1\" class=\"dataframe\">\n",
       "  <thead>\n",
       "    <tr style=\"text-align: right;\">\n",
       "      <th></th>\n",
       "      <th>name</th>\n",
       "      <th>online_order</th>\n",
       "      <th>book_table</th>\n",
       "      <th>rate</th>\n",
       "      <th>location</th>\n",
       "      <th>rest_type</th>\n",
       "      <th>cuisines</th>\n",
       "      <th>approx_cost(for two people)</th>\n",
       "      <th>listed_in(type)</th>\n",
       "    </tr>\n",
       "  </thead>\n",
       "  <tbody>\n",
       "    <tr>\n",
       "      <th>0</th>\n",
       "      <td>Jalsa</td>\n",
       "      <td>Yes</td>\n",
       "      <td>Yes</td>\n",
       "      <td>4.1/5</td>\n",
       "      <td>Banashankari</td>\n",
       "      <td>Casual Dining</td>\n",
       "      <td>North Indian, Mughlai, Chinese</td>\n",
       "      <td>800</td>\n",
       "      <td>Buffet</td>\n",
       "    </tr>\n",
       "    <tr>\n",
       "      <th>1</th>\n",
       "      <td>Spice Elephant</td>\n",
       "      <td>Yes</td>\n",
       "      <td>No</td>\n",
       "      <td>4.1/5</td>\n",
       "      <td>Banashankari</td>\n",
       "      <td>Casual Dining</td>\n",
       "      <td>Chinese, North Indian, Thai</td>\n",
       "      <td>800</td>\n",
       "      <td>Buffet</td>\n",
       "    </tr>\n",
       "    <tr>\n",
       "      <th>2</th>\n",
       "      <td>San Churro Cafe</td>\n",
       "      <td>Yes</td>\n",
       "      <td>No</td>\n",
       "      <td>3.8/5</td>\n",
       "      <td>Banashankari</td>\n",
       "      <td>Cafe, Casual Dining</td>\n",
       "      <td>Cafe, Mexican, Italian</td>\n",
       "      <td>800</td>\n",
       "      <td>Buffet</td>\n",
       "    </tr>\n",
       "    <tr>\n",
       "      <th>3</th>\n",
       "      <td>Addhuri Udupi Bhojana</td>\n",
       "      <td>No</td>\n",
       "      <td>No</td>\n",
       "      <td>3.7/5</td>\n",
       "      <td>Banashankari</td>\n",
       "      <td>Quick Bites</td>\n",
       "      <td>South Indian, North Indian</td>\n",
       "      <td>300</td>\n",
       "      <td>Buffet</td>\n",
       "    </tr>\n",
       "    <tr>\n",
       "      <th>4</th>\n",
       "      <td>Grand Village</td>\n",
       "      <td>No</td>\n",
       "      <td>No</td>\n",
       "      <td>3.8/5</td>\n",
       "      <td>Basavanagudi</td>\n",
       "      <td>Casual Dining</td>\n",
       "      <td>North Indian, Rajasthani</td>\n",
       "      <td>600</td>\n",
       "      <td>Buffet</td>\n",
       "    </tr>\n",
       "    <tr>\n",
       "      <th>...</th>\n",
       "      <td>...</td>\n",
       "      <td>...</td>\n",
       "      <td>...</td>\n",
       "      <td>...</td>\n",
       "      <td>...</td>\n",
       "      <td>...</td>\n",
       "      <td>...</td>\n",
       "      <td>...</td>\n",
       "      <td>...</td>\n",
       "    </tr>\n",
       "    <tr>\n",
       "      <th>51709</th>\n",
       "      <td>The Farm House Bar n Grill</td>\n",
       "      <td>No</td>\n",
       "      <td>No</td>\n",
       "      <td>3.7 /5</td>\n",
       "      <td>Whitefield</td>\n",
       "      <td>Casual Dining, Bar</td>\n",
       "      <td>North Indian, Continental</td>\n",
       "      <td>800</td>\n",
       "      <td>Pubs and bars</td>\n",
       "    </tr>\n",
       "    <tr>\n",
       "      <th>51711</th>\n",
       "      <td>Bhagini</td>\n",
       "      <td>No</td>\n",
       "      <td>No</td>\n",
       "      <td>2.5 /5</td>\n",
       "      <td>Whitefield</td>\n",
       "      <td>Casual Dining, Bar</td>\n",
       "      <td>Andhra, South Indian, Chinese, North Indian</td>\n",
       "      <td>800</td>\n",
       "      <td>Pubs and bars</td>\n",
       "    </tr>\n",
       "    <tr>\n",
       "      <th>51712</th>\n",
       "      <td>Best Brews - Four Points by Sheraton Bengaluru...</td>\n",
       "      <td>No</td>\n",
       "      <td>No</td>\n",
       "      <td>3.6 /5</td>\n",
       "      <td>Whitefield</td>\n",
       "      <td>Bar</td>\n",
       "      <td>Continental</td>\n",
       "      <td>1,500</td>\n",
       "      <td>Pubs and bars</td>\n",
       "    </tr>\n",
       "    <tr>\n",
       "      <th>51715</th>\n",
       "      <td>Chime - Sheraton Grand Bengaluru Whitefield Ho...</td>\n",
       "      <td>No</td>\n",
       "      <td>Yes</td>\n",
       "      <td>4.3 /5</td>\n",
       "      <td>ITPL Main Road, Whitefield</td>\n",
       "      <td>Bar</td>\n",
       "      <td>Finger Food</td>\n",
       "      <td>2,500</td>\n",
       "      <td>Pubs and bars</td>\n",
       "    </tr>\n",
       "    <tr>\n",
       "      <th>51716</th>\n",
       "      <td>The Nest - The Den Bengaluru</td>\n",
       "      <td>No</td>\n",
       "      <td>No</td>\n",
       "      <td>3.4 /5</td>\n",
       "      <td>ITPL Main Road, Whitefield</td>\n",
       "      <td>Bar, Casual Dining</td>\n",
       "      <td>Finger Food, North Indian, Continental</td>\n",
       "      <td>1,500</td>\n",
       "      <td>Pubs and bars</td>\n",
       "    </tr>\n",
       "  </tbody>\n",
       "</table>\n",
       "<p>43533 rows × 9 columns</p>\n",
       "</div>"
      ],
      "text/plain": [
       "                                                    name online_order  \\\n",
       "0                                                  Jalsa          Yes   \n",
       "1                                         Spice Elephant          Yes   \n",
       "2                                        San Churro Cafe          Yes   \n",
       "3                                  Addhuri Udupi Bhojana           No   \n",
       "4                                          Grand Village           No   \n",
       "...                                                  ...          ...   \n",
       "51709                         The Farm House Bar n Grill           No   \n",
       "51711                                            Bhagini           No   \n",
       "51712  Best Brews - Four Points by Sheraton Bengaluru...           No   \n",
       "51715  Chime - Sheraton Grand Bengaluru Whitefield Ho...           No   \n",
       "51716                       The Nest - The Den Bengaluru           No   \n",
       "\n",
       "      book_table    rate                    location            rest_type  \\\n",
       "0            Yes   4.1/5                Banashankari        Casual Dining   \n",
       "1             No   4.1/5                Banashankari        Casual Dining   \n",
       "2             No   3.8/5                Banashankari  Cafe, Casual Dining   \n",
       "3             No   3.7/5                Banashankari          Quick Bites   \n",
       "4             No   3.8/5                Basavanagudi        Casual Dining   \n",
       "...          ...     ...                         ...                  ...   \n",
       "51709         No  3.7 /5                  Whitefield   Casual Dining, Bar   \n",
       "51711         No  2.5 /5                  Whitefield   Casual Dining, Bar   \n",
       "51712         No  3.6 /5                  Whitefield                  Bar   \n",
       "51715        Yes  4.3 /5  ITPL Main Road, Whitefield                  Bar   \n",
       "51716         No  3.4 /5  ITPL Main Road, Whitefield   Bar, Casual Dining   \n",
       "\n",
       "                                          cuisines  \\\n",
       "0                   North Indian, Mughlai, Chinese   \n",
       "1                      Chinese, North Indian, Thai   \n",
       "2                           Cafe, Mexican, Italian   \n",
       "3                       South Indian, North Indian   \n",
       "4                         North Indian, Rajasthani   \n",
       "...                                            ...   \n",
       "51709                    North Indian, Continental   \n",
       "51711  Andhra, South Indian, Chinese, North Indian   \n",
       "51712                                  Continental   \n",
       "51715                                  Finger Food   \n",
       "51716       Finger Food, North Indian, Continental   \n",
       "\n",
       "      approx_cost(for two people) listed_in(type)  \n",
       "0                             800          Buffet  \n",
       "1                             800          Buffet  \n",
       "2                             800          Buffet  \n",
       "3                             300          Buffet  \n",
       "4                             600          Buffet  \n",
       "...                           ...             ...  \n",
       "51709                         800   Pubs and bars  \n",
       "51711                         800   Pubs and bars  \n",
       "51712                       1,500   Pubs and bars  \n",
       "51715                       2,500   Pubs and bars  \n",
       "51716                       1,500   Pubs and bars  \n",
       "\n",
       "[43533 rows x 9 columns]"
      ]
     },
     "execution_count": 1,
     "metadata": {},
     "output_type": "execute_result"
    }
   ],
   "source": [
    "import pandas as pd\n",
    "from wordcloud import WordCloud, STOPWORDS\n",
    "import matplotlib.pyplot as plt\n",
    "import numpy as np\n",
    "df = pd.read_csv('zomato_updated.csv')\n",
    "df = df.dropna()\n",
    "df"
   ]
  },
  {
   "cell_type": "code",
   "execution_count": 2,
   "id": "f608163b",
   "metadata": {},
   "outputs": [
    {
     "data": {
      "text/plain": [
       "array(['Banashankari', 'Basavanagudi', 'Mysore Road', 'Jayanagar',\n",
       "       'Kumaraswamy Layout', 'Rajarajeshwari Nagar', 'Vijay Nagar',\n",
       "       'Uttarahalli', 'JP Nagar', 'South Bangalore', 'City Market',\n",
       "       'Bannerghatta Road', 'BTM', 'Kanakapura Road', 'Bommanahalli',\n",
       "       'CV Raman Nagar', 'Electronic City', 'Wilson Garden',\n",
       "       'Shanti Nagar', 'Koramangala 5th Block', 'Richmond Road', 'HSR',\n",
       "       'Marathahalli', 'Koramangala 7th Block', 'Bellandur',\n",
       "       'Sarjapur Road', 'Whitefield', 'East Bangalore',\n",
       "       'Old Airport Road', 'Indiranagar', 'Koramangala 1st Block',\n",
       "       'Frazer Town', 'MG Road', 'Brigade Road', 'Lavelle Road',\n",
       "       'Church Street', 'Ulsoor', 'Residency Road', 'Shivajinagar',\n",
       "       'Infantry Road', 'St. Marks Road', 'Cunningham Road',\n",
       "       'Race Course Road', 'Commercial Street', 'Vasanth Nagar', 'Domlur',\n",
       "       'Koramangala 8th Block', 'Ejipura', 'Jeevan Bhima Nagar',\n",
       "       'Old Madras Road', 'Seshadripuram', 'Kammanahalli',\n",
       "       'Koramangala 6th Block', 'Majestic', 'Langford Town',\n",
       "       'Central Bangalore', 'Sanjay Nagar', 'Brookefield',\n",
       "       'ITPL Main Road, Whitefield', 'Varthur Main Road, Whitefield',\n",
       "       'Koramangala 2nd Block', 'Koramangala 3rd Block',\n",
       "       'Koramangala 4th Block', 'Koramangala', 'Hosur Road',\n",
       "       'Rajajinagar', 'RT Nagar', 'Banaswadi', 'North Bangalore',\n",
       "       'Nagawara', 'Hennur', 'Kalyan Nagar', 'HBR Layout',\n",
       "       'Rammurthy Nagar', 'Thippasandra', 'Kaggadasapura', 'Hebbal',\n",
       "       'Kengeri', 'New BEL Road', 'Sankey Road', 'Malleshwaram',\n",
       "       'Sadashiv Nagar', 'Basaveshwara Nagar', 'Yeshwantpur',\n",
       "       'West Bangalore', 'Magadi Road', 'Yelahanka', 'Sahakara Nagar',\n",
       "       'Jalahalli', 'Nagarbhavi', 'Peenya', 'KR Puram'], dtype=object)"
      ]
     },
     "execution_count": 2,
     "metadata": {},
     "output_type": "execute_result"
    }
   ],
   "source": [
    "df['location'].unique()"
   ]
  },
  {
   "cell_type": "markdown",
   "id": "e4a63ff0",
   "metadata": {},
   "source": [
    "### In the cell above, we can see that 'Koramangala', 'Koramangala 1st block', 'Koramangala 2nd Block' etc are treated as separate areas. Hence we would need to make sure that all of them are renamed to 'Koramangala'"
   ]
  },
  {
   "cell_type": "code",
   "execution_count": 43,
   "id": "7cbaed18",
   "metadata": {},
   "outputs": [],
   "source": [
    "areas = df['location'].unique()\n",
    "koramangala_merged = []\n",
    "for i in areas:\n",
    "    if type(i)==str:\n",
    "        if 'Koramangala' in i:\n",
    "            koramangala_merged.append(i)\n",
    "# for i in range(0,len(koramangala_merged)):\n",
    "#     df['location'] = df['location'].str.replace(str(koramangala_merged[i]),'Koramangala')\n",
    "for i in koramangala_merged:\n",
    "    df['location'] = df['location'].str.replace(str(i),'Koramangala')"
   ]
  },
  {
   "cell_type": "code",
   "execution_count": 44,
   "id": "f88a9e8a",
   "metadata": {},
   "outputs": [
    {
     "data": {
      "text/plain": [
       "array(['Banashankari', 'Basavanagudi', 'Mysore Road', 'Jayanagar',\n",
       "       'Kumaraswamy Layout', 'Rajarajeshwari Nagar', 'Vijay Nagar',\n",
       "       'Uttarahalli', 'JP Nagar', 'South Bangalore', 'City Market',\n",
       "       'Bannerghatta Road', 'BTM', 'Kanakapura Road', 'Bommanahalli',\n",
       "       'CV Raman Nagar', 'Electronic City', 'Wilson Garden',\n",
       "       'Shanti Nagar', 'Koramangala', 'Richmond Road', 'HSR',\n",
       "       'Marathahalli', 'Bellandur', 'Sarjapur Road', 'Whitefield',\n",
       "       'East Bangalore', 'Old Airport Road', 'Indiranagar', 'Frazer Town',\n",
       "       'MG Road', 'Brigade Road', 'Lavelle Road', 'Church Street',\n",
       "       'Ulsoor', 'Residency Road', 'Shivajinagar', 'Infantry Road',\n",
       "       'St. Marks Road', 'Cunningham Road', 'Race Course Road',\n",
       "       'Commercial Street', 'Vasanth Nagar', 'Domlur', 'Ejipura',\n",
       "       'Jeevan Bhima Nagar', 'Old Madras Road', 'Seshadripuram',\n",
       "       'Kammanahalli', 'Majestic', 'Langford Town', 'Central Bangalore',\n",
       "       'Sanjay Nagar', 'Brookefield', 'ITPL Main Road, Whitefield',\n",
       "       'Varthur Main Road, Whitefield', 'Hosur Road', 'Rajajinagar',\n",
       "       'RT Nagar', 'Banaswadi', 'North Bangalore', 'Nagawara', 'Hennur',\n",
       "       'Kalyan Nagar', 'HBR Layout', 'Rammurthy Nagar', 'Thippasandra',\n",
       "       'Kaggadasapura', 'Hebbal', 'Kengeri', 'New BEL Road',\n",
       "       'Sankey Road', 'Malleshwaram', 'Sadashiv Nagar',\n",
       "       'Basaveshwara Nagar', 'Yeshwantpur', 'West Bangalore',\n",
       "       'Magadi Road', 'Yelahanka', 'Sahakara Nagar', 'Jalahalli',\n",
       "       'Nagarbhavi', 'Peenya', 'KR Puram'], dtype=object)"
      ]
     },
     "execution_count": 44,
     "metadata": {},
     "output_type": "execute_result"
    }
   ],
   "source": [
    "df['location'].unique()\n",
    "            "
   ]
  },
  {
   "cell_type": "markdown",
   "id": "06ebc5c2",
   "metadata": {},
   "source": [
    "### Now we can see that we only have 'Koramangala' in the series. This made the data much more uniform"
   ]
  },
  {
   "cell_type": "code",
   "execution_count": 5,
   "id": "bb7ae676",
   "metadata": {},
   "outputs": [
    {
     "data": {
      "text/plain": [
       "array(['4.1/5', '3.8/5', '3.7/5', '3.6/5', '4.6/5', '4.0/5', '4.2/5',\n",
       "       '3.9/5', '3.1/5', '3.0/5', '3.2/5', '3.3/5', '2.8/5', '4.4/5',\n",
       "       '4.3/5', 'NEW', '2.9/5', '3.5/5', '2.6/5', '3.8 /5', '3.4/5',\n",
       "       '4.5/5', '2.5/5', '2.7/5', '4.7/5', '2.4/5', '2.2/5', '2.3/5',\n",
       "       '3.4 /5', '-', '3.6 /5', '4.8/5', '3.9 /5', '4.2 /5', '4.0 /5',\n",
       "       '4.1 /5', '3.7 /5', '3.1 /5', '2.9 /5', '3.3 /5', '2.8 /5',\n",
       "       '3.5 /5', '2.7 /5', '2.5 /5', '3.2 /5', '2.6 /5', '4.5 /5',\n",
       "       '4.3 /5', '4.4 /5', '4.9/5', '2.1/5', '2.0/5', '1.8/5', '4.6 /5',\n",
       "       '4.9 /5', '3.0 /5', '4.8 /5', '2.3 /5', '4.7 /5', '2.4 /5',\n",
       "       '2.1 /5', '2.2 /5', '2.0 /5', '1.8 /5'], dtype=object)"
      ]
     },
     "execution_count": 5,
     "metadata": {},
     "output_type": "execute_result"
    }
   ],
   "source": [
    "df['rate'].unique()"
   ]
  },
  {
   "cell_type": "markdown",
   "id": "6ee56d39",
   "metadata": {},
   "source": [
    "### The data above isn't very clean. We will need to replace 'NEW'  and '-' with 0"
   ]
  },
  {
   "cell_type": "code",
   "execution_count": 6,
   "id": "1aa9025e",
   "metadata": {},
   "outputs": [],
   "source": [
    "anomalies = ['NEW','-']\n",
    "for i in range(0,len(anomalies)):\n",
    "    df['rate'] = df['rate'].str.replace(anomalies[i],'0/5')\n"
   ]
  },
  {
   "cell_type": "code",
   "execution_count": 7,
   "id": "f113debe",
   "metadata": {},
   "outputs": [
    {
     "data": {
      "text/plain": [
       "array(['4.1/5', '3.8/5', '3.7/5', '3.6/5', '4.6/5', '4.0/5', '4.2/5',\n",
       "       '3.9/5', '3.1/5', '3.0/5', '3.2/5', '3.3/5', '2.8/5', '4.4/5',\n",
       "       '4.3/5', '0/5', '2.9/5', '3.5/5', '2.6/5', '3.8 /5', '3.4/5',\n",
       "       '4.5/5', '2.5/5', '2.7/5', '4.7/5', '2.4/5', '2.2/5', '2.3/5',\n",
       "       '3.4 /5', '3.6 /5', '4.8/5', '3.9 /5', '4.2 /5', '4.0 /5',\n",
       "       '4.1 /5', '3.7 /5', '3.1 /5', '2.9 /5', '3.3 /5', '2.8 /5',\n",
       "       '3.5 /5', '2.7 /5', '2.5 /5', '3.2 /5', '2.6 /5', '4.5 /5',\n",
       "       '4.3 /5', '4.4 /5', '4.9/5', '2.1/5', '2.0/5', '1.8/5', '4.6 /5',\n",
       "       '4.9 /5', '3.0 /5', '4.8 /5', '2.3 /5', '4.7 /5', '2.4 /5',\n",
       "       '2.1 /5', '2.2 /5', '2.0 /5', '1.8 /5'], dtype=object)"
      ]
     },
     "execution_count": 7,
     "metadata": {},
     "output_type": "execute_result"
    }
   ],
   "source": [
    "df['rate'].unique()"
   ]
  },
  {
   "cell_type": "code",
   "execution_count": 8,
   "id": "10e733dc",
   "metadata": {},
   "outputs": [],
   "source": [
    "# We need to change 3/5, 4/5 to 3,4 etc and convert it to float.\n",
    "df['rate'] = df['rate'].str.split('/').str.get(0)\n",
    "df['rate'] = pd.to_numeric(df['rate'])"
   ]
  },
  {
   "cell_type": "markdown",
   "id": "4efb38ba",
   "metadata": {},
   "source": [
    "## Area with best pubs"
   ]
  },
  {
   "cell_type": "code",
   "execution_count": 10,
   "id": "3020c4fc",
   "metadata": {},
   "outputs": [],
   "source": [
    "pubs = df[(df['listed_in(type)'].str.contains('Pubs and bars')) ]"
   ]
  },
  {
   "cell_type": "markdown",
   "id": "cdeff218",
   "metadata": {},
   "source": [
    "## To find out areas with best pubs, we will need to compare the average ratings of pubs in all areas"
   ]
  },
  {
   "cell_type": "code",
   "execution_count": 12,
   "id": "1627a3f1",
   "metadata": {},
   "outputs": [
    {
     "data": {
      "text/html": [
       "<div>\n",
       "<style scoped>\n",
       "    .dataframe tbody tr th:only-of-type {\n",
       "        vertical-align: middle;\n",
       "    }\n",
       "\n",
       "    .dataframe tbody tr th {\n",
       "        vertical-align: top;\n",
       "    }\n",
       "\n",
       "    .dataframe thead th {\n",
       "        text-align: right;\n",
       "    }\n",
       "</style>\n",
       "<table border=\"1\" class=\"dataframe\">\n",
       "  <thead>\n",
       "    <tr style=\"text-align: right;\">\n",
       "      <th></th>\n",
       "      <th>name</th>\n",
       "      <th>online_order</th>\n",
       "      <th>book_table</th>\n",
       "      <th>rate</th>\n",
       "      <th>location</th>\n",
       "      <th>rest_type</th>\n",
       "      <th>cuisines</th>\n",
       "      <th>approx_cost(for two people)</th>\n",
       "      <th>listed_in(type)</th>\n",
       "    </tr>\n",
       "  </thead>\n",
       "  <tbody>\n",
       "    <tr>\n",
       "      <th>0</th>\n",
       "      <td>Jalsa</td>\n",
       "      <td>Yes</td>\n",
       "      <td>Yes</td>\n",
       "      <td>4.1</td>\n",
       "      <td>Banashankari</td>\n",
       "      <td>Casual Dining</td>\n",
       "      <td>North Indian, Mughlai, Chinese</td>\n",
       "      <td>800</td>\n",
       "      <td>Buffet</td>\n",
       "    </tr>\n",
       "    <tr>\n",
       "      <th>1</th>\n",
       "      <td>Spice Elephant</td>\n",
       "      <td>Yes</td>\n",
       "      <td>No</td>\n",
       "      <td>4.1</td>\n",
       "      <td>Banashankari</td>\n",
       "      <td>Casual Dining</td>\n",
       "      <td>Chinese, North Indian, Thai</td>\n",
       "      <td>800</td>\n",
       "      <td>Buffet</td>\n",
       "    </tr>\n",
       "    <tr>\n",
       "      <th>2</th>\n",
       "      <td>San Churro Cafe</td>\n",
       "      <td>Yes</td>\n",
       "      <td>No</td>\n",
       "      <td>3.8</td>\n",
       "      <td>Banashankari</td>\n",
       "      <td>Cafe, Casual Dining</td>\n",
       "      <td>Cafe, Mexican, Italian</td>\n",
       "      <td>800</td>\n",
       "      <td>Buffet</td>\n",
       "    </tr>\n",
       "    <tr>\n",
       "      <th>3</th>\n",
       "      <td>Addhuri Udupi Bhojana</td>\n",
       "      <td>No</td>\n",
       "      <td>No</td>\n",
       "      <td>3.7</td>\n",
       "      <td>Banashankari</td>\n",
       "      <td>Quick Bites</td>\n",
       "      <td>South Indian, North Indian</td>\n",
       "      <td>300</td>\n",
       "      <td>Buffet</td>\n",
       "    </tr>\n",
       "    <tr>\n",
       "      <th>4</th>\n",
       "      <td>Grand Village</td>\n",
       "      <td>No</td>\n",
       "      <td>No</td>\n",
       "      <td>3.8</td>\n",
       "      <td>Basavanagudi</td>\n",
       "      <td>Casual Dining</td>\n",
       "      <td>North Indian, Rajasthani</td>\n",
       "      <td>600</td>\n",
       "      <td>Buffet</td>\n",
       "    </tr>\n",
       "    <tr>\n",
       "      <th>...</th>\n",
       "      <td>...</td>\n",
       "      <td>...</td>\n",
       "      <td>...</td>\n",
       "      <td>...</td>\n",
       "      <td>...</td>\n",
       "      <td>...</td>\n",
       "      <td>...</td>\n",
       "      <td>...</td>\n",
       "      <td>...</td>\n",
       "    </tr>\n",
       "    <tr>\n",
       "      <th>51709</th>\n",
       "      <td>The Farm House Bar n Grill</td>\n",
       "      <td>No</td>\n",
       "      <td>No</td>\n",
       "      <td>3.7</td>\n",
       "      <td>Whitefield</td>\n",
       "      <td>Casual Dining, Bar</td>\n",
       "      <td>North Indian, Continental</td>\n",
       "      <td>800</td>\n",
       "      <td>Pubs and bars</td>\n",
       "    </tr>\n",
       "    <tr>\n",
       "      <th>51711</th>\n",
       "      <td>Bhagini</td>\n",
       "      <td>No</td>\n",
       "      <td>No</td>\n",
       "      <td>2.5</td>\n",
       "      <td>Whitefield</td>\n",
       "      <td>Casual Dining, Bar</td>\n",
       "      <td>Andhra, South Indian, Chinese, North Indian</td>\n",
       "      <td>800</td>\n",
       "      <td>Pubs and bars</td>\n",
       "    </tr>\n",
       "    <tr>\n",
       "      <th>51712</th>\n",
       "      <td>Best Brews - Four Points by Sheraton Bengaluru...</td>\n",
       "      <td>No</td>\n",
       "      <td>No</td>\n",
       "      <td>3.6</td>\n",
       "      <td>Whitefield</td>\n",
       "      <td>Bar</td>\n",
       "      <td>Continental</td>\n",
       "      <td>1,500</td>\n",
       "      <td>Pubs and bars</td>\n",
       "    </tr>\n",
       "    <tr>\n",
       "      <th>51715</th>\n",
       "      <td>Chime - Sheraton Grand Bengaluru Whitefield Ho...</td>\n",
       "      <td>No</td>\n",
       "      <td>Yes</td>\n",
       "      <td>4.3</td>\n",
       "      <td>ITPL Main Road, Whitefield</td>\n",
       "      <td>Bar</td>\n",
       "      <td>Finger Food</td>\n",
       "      <td>2,500</td>\n",
       "      <td>Pubs and bars</td>\n",
       "    </tr>\n",
       "    <tr>\n",
       "      <th>51716</th>\n",
       "      <td>The Nest - The Den Bengaluru</td>\n",
       "      <td>No</td>\n",
       "      <td>No</td>\n",
       "      <td>3.4</td>\n",
       "      <td>ITPL Main Road, Whitefield</td>\n",
       "      <td>Bar, Casual Dining</td>\n",
       "      <td>Finger Food, North Indian, Continental</td>\n",
       "      <td>1,500</td>\n",
       "      <td>Pubs and bars</td>\n",
       "    </tr>\n",
       "  </tbody>\n",
       "</table>\n",
       "<p>43533 rows × 9 columns</p>\n",
       "</div>"
      ],
      "text/plain": [
       "                                                    name online_order  \\\n",
       "0                                                  Jalsa          Yes   \n",
       "1                                         Spice Elephant          Yes   \n",
       "2                                        San Churro Cafe          Yes   \n",
       "3                                  Addhuri Udupi Bhojana           No   \n",
       "4                                          Grand Village           No   \n",
       "...                                                  ...          ...   \n",
       "51709                         The Farm House Bar n Grill           No   \n",
       "51711                                            Bhagini           No   \n",
       "51712  Best Brews - Four Points by Sheraton Bengaluru...           No   \n",
       "51715  Chime - Sheraton Grand Bengaluru Whitefield Ho...           No   \n",
       "51716                       The Nest - The Den Bengaluru           No   \n",
       "\n",
       "      book_table  rate                    location            rest_type  \\\n",
       "0            Yes   4.1                Banashankari        Casual Dining   \n",
       "1             No   4.1                Banashankari        Casual Dining   \n",
       "2             No   3.8                Banashankari  Cafe, Casual Dining   \n",
       "3             No   3.7                Banashankari          Quick Bites   \n",
       "4             No   3.8                Basavanagudi        Casual Dining   \n",
       "...          ...   ...                         ...                  ...   \n",
       "51709         No   3.7                  Whitefield   Casual Dining, Bar   \n",
       "51711         No   2.5                  Whitefield   Casual Dining, Bar   \n",
       "51712         No   3.6                  Whitefield                  Bar   \n",
       "51715        Yes   4.3  ITPL Main Road, Whitefield                  Bar   \n",
       "51716         No   3.4  ITPL Main Road, Whitefield   Bar, Casual Dining   \n",
       "\n",
       "                                          cuisines  \\\n",
       "0                   North Indian, Mughlai, Chinese   \n",
       "1                      Chinese, North Indian, Thai   \n",
       "2                           Cafe, Mexican, Italian   \n",
       "3                       South Indian, North Indian   \n",
       "4                         North Indian, Rajasthani   \n",
       "...                                            ...   \n",
       "51709                    North Indian, Continental   \n",
       "51711  Andhra, South Indian, Chinese, North Indian   \n",
       "51712                                  Continental   \n",
       "51715                                  Finger Food   \n",
       "51716       Finger Food, North Indian, Continental   \n",
       "\n",
       "      approx_cost(for two people) listed_in(type)  \n",
       "0                             800          Buffet  \n",
       "1                             800          Buffet  \n",
       "2                             800          Buffet  \n",
       "3                             300          Buffet  \n",
       "4                             600          Buffet  \n",
       "...                           ...             ...  \n",
       "51709                         800   Pubs and bars  \n",
       "51711                         800   Pubs and bars  \n",
       "51712                       1,500   Pubs and bars  \n",
       "51715                       2,500   Pubs and bars  \n",
       "51716                       1,500   Pubs and bars  \n",
       "\n",
       "[43533 rows x 9 columns]"
      ]
     },
     "execution_count": 12,
     "metadata": {},
     "output_type": "execute_result"
    }
   ],
   "source": [
    "areas = pubs['location'].unique()\n",
    "df"
   ]
  },
  {
   "cell_type": "code",
   "execution_count": 13,
   "id": "b7fd325a",
   "metadata": {},
   "outputs": [],
   "source": [
    "avg_rating={}\n",
    "# Creating an empty dictionary with all unique areas as keys\n",
    "for area in areas:\n",
    "        if area not in avg_rating.keys():\n",
    "            avg_rating[area] = 0\n",
    "            \n",
    "for area in areas:\n",
    "    a = df[(df['location'].str.contains(area)) & (df['listed_in(type)'].str.contains('Pubs and bars'))]\n",
    "    mean_rating = a['rate'].mean()\n",
    "    avg_rating[area] += mean_rating"
   ]
  },
  {
   "cell_type": "code",
   "execution_count": 14,
   "id": "590e28df",
   "metadata": {},
   "outputs": [
    {
     "data": {
      "text/plain": [
       "{'Marathahalli': 4.533333333333333,\n",
       " 'Bannerghatta Road': 4.35,\n",
       " 'Sarjapur Road': 4.328571428571428,\n",
       " 'Infantry Road': 4.3,\n",
       " 'Cunningham Road': 4.228571428571429,\n",
       " 'New BEL Road': 4.2,\n",
       " 'St. Marks Road': 4.1863636363636365,\n",
       " 'Church Street': 4.165000000000001,\n",
       " 'Old Airport Road': 4.144444444444445,\n",
       " 'Malleshwaram': 4.114285714285716,\n",
       " 'Sankey Road': 4.1,\n",
       " 'Lavelle Road': 4.077419354838709,\n",
       " 'Brigade Road': 4.072727272727272,\n",
       " 'Rajajinagar': 4.029999999999999,\n",
       " 'Bellandur': 4.01875,\n",
       " 'Wilson Garden': 4.0,\n",
       " 'Whitefield': 3.996875,\n",
       " 'JP Nagar': 3.983333333333333,\n",
       " 'MG Road': 3.975,\n",
       " 'Race Course Road': 3.9166666666666665,\n",
       " 'Richmond Road': 3.9000000000000004,\n",
       " 'Langford Town': 3.9,\n",
       " 'Hosur Road': 3.9,\n",
       " 'Frazer Town': 3.9,\n",
       " 'Residency Road': 3.8846153846153846,\n",
       " 'ITPL Main Road, Whitefield': 3.8499999999999996,\n",
       " 'Shanti Nagar': 3.8,\n",
       " 'Banaswadi': 3.8,\n",
       " 'HSR': 3.783333333333333,\n",
       " 'Koramangala': 3.77037037037037,\n",
       " 'Shivajinagar': 3.725,\n",
       " 'Domlur': 3.7181818181818183,\n",
       " 'Indiranagar': 3.7106060606060605,\n",
       " 'Bommanahalli': 3.7,\n",
       " 'Vijay Nagar': 3.7,\n",
       " 'Basaveshwara Nagar': 3.533333333333333,\n",
       " 'Electronic City': 3.475,\n",
       " 'Seshadripuram': 3.411111111111111,\n",
       " 'Ulsoor': 3.2999999999999994,\n",
       " 'Thippasandra': 3.2,\n",
       " 'Yeshwantpur': 3.2,\n",
       " 'BTM': 3.0062499999999996}"
      ]
     },
     "execution_count": 14,
     "metadata": {},
     "output_type": "execute_result"
    }
   ],
   "source": [
    "{k: v for k, v in sorted(avg_rating.items(), key=lambda item: item[1], reverse = True)}"
   ]
  },
  {
   "cell_type": "markdown",
   "id": "29cd575e",
   "metadata": {},
   "source": [
    "## Now we will verify if the output above is correct. To do this, we can manually fetch the average pub rating of any area(s) and cross check it with our output"
   ]
  },
  {
   "cell_type": "code",
   "execution_count": 49,
   "id": "a76450c4",
   "metadata": {},
   "outputs": [
    {
     "data": {
      "text/plain": [
       "4.01875"
      ]
     },
     "execution_count": 49,
     "metadata": {},
     "output_type": "execute_result"
    }
   ],
   "source": [
    "bel = pubs[pubs['location'].str.contains('Bellandur')]\n",
    "bel['rate'].mean()"
   ]
  },
  {
   "cell_type": "markdown",
   "id": "2330020c",
   "metadata": {},
   "source": [
    "## Hence we can conclude that our analysis is correct and the best pubs in Bengaluru can be found in Marathahalli."
   ]
  },
  {
   "cell_type": "code",
   "execution_count": 50,
   "id": "22cee39e",
   "metadata": {},
   "outputs": [
    {
     "data": {
      "text/plain": [
       "Koramangala                   162\n",
       "Indiranagar                    66\n",
       "MG Road                        32\n",
       "Lavelle Road                   31\n",
       "Whitefield                     30\n",
       "Residency Road                 26\n",
       "Ulsoor                         25\n",
       "St. Marks Road                 22\n",
       "Brigade Road                   22\n",
       "Sarjapur Road                  21\n",
       "Church Street                  20\n",
       "Electronic City                20\n",
       "HSR                            18\n",
       "BTM                            16\n",
       "Bellandur                      16\n",
       "Malleshwaram                   14\n",
       "Richmond Road                  12\n",
       "Domlur                         11\n",
       "Rajajinagar                    10\n",
       "Seshadripuram                   9\n",
       "Old Airport Road                9\n",
       "New BEL Road                    8\n",
       "Shivajinagar                    8\n",
       "Cunningham Road                 7\n",
       "JP Nagar                        6\n",
       "Race Course Road                6\n",
       "Infantry Road                   4\n",
       "Langford Town                   4\n",
       "Marathahalli                    3\n",
       "Basaveshwara Nagar              3\n",
       "Hosur Road                      3\n",
       "Bannerghatta Road               2\n",
       "Shanti Nagar                    2\n",
       "Frazer Town                     2\n",
       "Thippasandra                    2\n",
       "ITPL Main Road, Whitefield      2\n",
       "Banaswadi                       1\n",
       "Wilson Garden                   1\n",
       "Sankey Road                     1\n",
       "Yeshwantpur                     1\n",
       "Vijay Nagar                     1\n",
       "Bommanahalli                    1\n",
       "Name: location, dtype: int64"
      ]
     },
     "execution_count": 50,
     "metadata": {},
     "output_type": "execute_result"
    }
   ],
   "source": [
    "## Area wise count of pubs      \n",
    "c = df[df['listed_in(type)'].str.contains('Pubs and bars')]\n",
    "count_pubs = c['location'].value_counts()\n",
    "count_pubs"
   ]
  },
  {
   "cell_type": "code",
   "execution_count": 19,
   "id": "4b778298",
   "metadata": {},
   "outputs": [],
   "source": [
    "df['approx_cost(for two people)'] = df['approx_cost(for two people)'].str.replace(',','')\n",
    "df['approx_cost(for two people)'] = pd.to_numeric(df['approx_cost(for two people)'])"
   ]
  },
  {
   "cell_type": "code",
   "execution_count": 20,
   "id": "1d3fe737",
   "metadata": {},
   "outputs": [
    {
     "data": {
      "text/html": [
       "<div>\n",
       "<style scoped>\n",
       "    .dataframe tbody tr th:only-of-type {\n",
       "        vertical-align: middle;\n",
       "    }\n",
       "\n",
       "    .dataframe tbody tr th {\n",
       "        vertical-align: top;\n",
       "    }\n",
       "\n",
       "    .dataframe thead th {\n",
       "        text-align: right;\n",
       "    }\n",
       "</style>\n",
       "<table border=\"1\" class=\"dataframe\">\n",
       "  <thead>\n",
       "    <tr style=\"text-align: right;\">\n",
       "      <th></th>\n",
       "      <th>rate</th>\n",
       "      <th>approx_cost(for two people)</th>\n",
       "    </tr>\n",
       "  </thead>\n",
       "  <tbody>\n",
       "    <tr>\n",
       "      <th>rate</th>\n",
       "      <td>1.000000</td>\n",
       "      <td>0.249954</td>\n",
       "    </tr>\n",
       "    <tr>\n",
       "      <th>approx_cost(for two people)</th>\n",
       "      <td>0.249954</td>\n",
       "      <td>1.000000</td>\n",
       "    </tr>\n",
       "  </tbody>\n",
       "</table>\n",
       "</div>"
      ],
      "text/plain": [
       "                                 rate  approx_cost(for two people)\n",
       "rate                         1.000000                     0.249954\n",
       "approx_cost(for two people)  0.249954                     1.000000"
      ]
     },
     "execution_count": 20,
     "metadata": {},
     "output_type": "execute_result"
    }
   ],
   "source": [
    "df.corr()"
   ]
  },
  {
   "cell_type": "code",
   "execution_count": 21,
   "id": "9e6ebf06",
   "metadata": {},
   "outputs": [],
   "source": [
    "## Most popular cuisines\n",
    "\n",
    "cuisines = []\n",
    "\n",
    "c = df['cuisines'].str.split(',')\n",
    "\n",
    "\n",
    "for i in c:\n",
    "    for j in i:\n",
    "        \n",
    "        cuisines.append(j)\n",
    "\n",
    "cuisines = np.array(cuisines)\n",
    "cuisine_words = []\n",
    "for i in cuisines:\n",
    "    i = i.strip()\n",
    "    i = i.replace(\" \",\"\")\n",
    "    cuisine_words.append(i)\n",
    "cuisine_words = np.array(cuisine_words) "
   ]
  },
  {
   "cell_type": "code",
   "execution_count": 22,
   "id": "61f5ba43",
   "metadata": {},
   "outputs": [],
   "source": [
    "words = \"\"\n",
    "words+= \" \".join(cuisine_words)+\" \"\n"
   ]
  },
  {
   "cell_type": "code",
   "execution_count": 23,
   "id": "c4a79c8a",
   "metadata": {},
   "outputs": [],
   "source": [
    "wordcloud = WordCloud(width = 800, height = 800,\n",
    "                background_color ='white',\n",
    "                collocations=False,\n",
    "                min_font_size = 15).generate(words)"
   ]
  },
  {
   "cell_type": "code",
   "execution_count": 24,
   "id": "18a19896",
   "metadata": {},
   "outputs": [
    {
     "data": {
      "image/png": "[encoded data removed]",
      "text/plain": [
       "<Figure size 360x360 with 1 Axes>"
      ]
     },
     "metadata": {
      "needs_background": "light"
     },
     "output_type": "display_data"
    }
   ],
   "source": [
    "plt.figure(figsize = (5, 5), facecolor = None)\n",
    "plt.imshow(wordcloud)\n",
    "plt.axis(\"off\")\n",
    "plt.tight_layout(pad = 0)\n",
    " \n",
    "plt.show()"
   ]
  },
  {
   "cell_type": "markdown",
   "id": "c7a956f8",
   "metadata": {},
   "source": [
    "# Finding out what percentage of buffet restaurants have online order facility"
   ]
  },
  {
   "cell_type": "code",
   "execution_count": 26,
   "id": "efd19ee1",
   "metadata": {},
   "outputs": [],
   "source": [
    "buffet = df[df['listed_in(type)'].str.contains('Buffet')]"
   ]
  },
  {
   "cell_type": "code",
   "execution_count": 27,
   "id": "71dfc77d",
   "metadata": {},
   "outputs": [
    {
     "data": {
      "text/html": [
       "<div>\n",
       "<style scoped>\n",
       "    .dataframe tbody tr th:only-of-type {\n",
       "        vertical-align: middle;\n",
       "    }\n",
       "\n",
       "    .dataframe tbody tr th {\n",
       "        vertical-align: top;\n",
       "    }\n",
       "\n",
       "    .dataframe thead th {\n",
       "        text-align: right;\n",
       "    }\n",
       "</style>\n",
       "<table border=\"1\" class=\"dataframe\">\n",
       "  <thead>\n",
       "    <tr style=\"text-align: right;\">\n",
       "      <th></th>\n",
       "      <th>name</th>\n",
       "      <th>online_order</th>\n",
       "      <th>book_table</th>\n",
       "      <th>rate</th>\n",
       "      <th>location</th>\n",
       "      <th>rest_type</th>\n",
       "      <th>cuisines</th>\n",
       "      <th>approx_cost(for two people)</th>\n",
       "      <th>listed_in(type)</th>\n",
       "    </tr>\n",
       "  </thead>\n",
       "  <tbody>\n",
       "    <tr>\n",
       "      <th>0</th>\n",
       "      <td>Jalsa</td>\n",
       "      <td>Yes</td>\n",
       "      <td>Yes</td>\n",
       "      <td>4.1</td>\n",
       "      <td>Banashankari</td>\n",
       "      <td>Casual Dining</td>\n",
       "      <td>North Indian, Mughlai, Chinese</td>\n",
       "      <td>800</td>\n",
       "      <td>Buffet</td>\n",
       "    </tr>\n",
       "    <tr>\n",
       "      <th>1</th>\n",
       "      <td>Spice Elephant</td>\n",
       "      <td>Yes</td>\n",
       "      <td>No</td>\n",
       "      <td>4.1</td>\n",
       "      <td>Banashankari</td>\n",
       "      <td>Casual Dining</td>\n",
       "      <td>Chinese, North Indian, Thai</td>\n",
       "      <td>800</td>\n",
       "      <td>Buffet</td>\n",
       "    </tr>\n",
       "    <tr>\n",
       "      <th>2</th>\n",
       "      <td>San Churro Cafe</td>\n",
       "      <td>Yes</td>\n",
       "      <td>No</td>\n",
       "      <td>3.8</td>\n",
       "      <td>Banashankari</td>\n",
       "      <td>Cafe, Casual Dining</td>\n",
       "      <td>Cafe, Mexican, Italian</td>\n",
       "      <td>800</td>\n",
       "      <td>Buffet</td>\n",
       "    </tr>\n",
       "    <tr>\n",
       "      <th>3</th>\n",
       "      <td>Addhuri Udupi Bhojana</td>\n",
       "      <td>No</td>\n",
       "      <td>No</td>\n",
       "      <td>3.7</td>\n",
       "      <td>Banashankari</td>\n",
       "      <td>Quick Bites</td>\n",
       "      <td>South Indian, North Indian</td>\n",
       "      <td>300</td>\n",
       "      <td>Buffet</td>\n",
       "    </tr>\n",
       "    <tr>\n",
       "      <th>4</th>\n",
       "      <td>Grand Village</td>\n",
       "      <td>No</td>\n",
       "      <td>No</td>\n",
       "      <td>3.8</td>\n",
       "      <td>Basavanagudi</td>\n",
       "      <td>Casual Dining</td>\n",
       "      <td>North Indian, Rajasthani</td>\n",
       "      <td>600</td>\n",
       "      <td>Buffet</td>\n",
       "    </tr>\n",
       "    <tr>\n",
       "      <th>...</th>\n",
       "      <td>...</td>\n",
       "      <td>...</td>\n",
       "      <td>...</td>\n",
       "      <td>...</td>\n",
       "      <td>...</td>\n",
       "      <td>...</td>\n",
       "      <td>...</td>\n",
       "      <td>...</td>\n",
       "      <td>...</td>\n",
       "    </tr>\n",
       "    <tr>\n",
       "      <th>48856</th>\n",
       "      <td>Flavors of India</td>\n",
       "      <td>Yes</td>\n",
       "      <td>Yes</td>\n",
       "      <td>3.7</td>\n",
       "      <td>Bellandur</td>\n",
       "      <td>Casual Dining</td>\n",
       "      <td>Chinese, North Indian, Salad, Fast Food</td>\n",
       "      <td>1500</td>\n",
       "      <td>Buffet</td>\n",
       "    </tr>\n",
       "    <tr>\n",
       "      <th>48858</th>\n",
       "      <td>Monsoon</td>\n",
       "      <td>No</td>\n",
       "      <td>No</td>\n",
       "      <td>2.8</td>\n",
       "      <td>Bellandur</td>\n",
       "      <td>Food Court</td>\n",
       "      <td>Continental</td>\n",
       "      <td>1000</td>\n",
       "      <td>Buffet</td>\n",
       "    </tr>\n",
       "    <tr>\n",
       "      <th>48859</th>\n",
       "      <td>BISO - Citrus Hotels</td>\n",
       "      <td>No</td>\n",
       "      <td>No</td>\n",
       "      <td>3.0</td>\n",
       "      <td>Bellandur</td>\n",
       "      <td>Casual Dining</td>\n",
       "      <td>North Indian, Italian, Chinese, Asian</td>\n",
       "      <td>1000</td>\n",
       "      <td>Buffet</td>\n",
       "    </tr>\n",
       "    <tr>\n",
       "      <th>48860</th>\n",
       "      <td>Chef's Gallery</td>\n",
       "      <td>No</td>\n",
       "      <td>No</td>\n",
       "      <td>3.5</td>\n",
       "      <td>Bellandur</td>\n",
       "      <td>Casual Dining</td>\n",
       "      <td>Chinese, Italian, North Indian</td>\n",
       "      <td>700</td>\n",
       "      <td>Buffet</td>\n",
       "    </tr>\n",
       "    <tr>\n",
       "      <th>48861</th>\n",
       "      <td>Palki's</td>\n",
       "      <td>No</td>\n",
       "      <td>No</td>\n",
       "      <td>3.0</td>\n",
       "      <td>Bellandur</td>\n",
       "      <td>Casual Dining</td>\n",
       "      <td>North Indian, Biryani</td>\n",
       "      <td>800</td>\n",
       "      <td>Buffet</td>\n",
       "    </tr>\n",
       "  </tbody>\n",
       "</table>\n",
       "<p>866 rows × 9 columns</p>\n",
       "</div>"
      ],
      "text/plain": [
       "                        name online_order book_table  rate      location  \\\n",
       "0                      Jalsa          Yes        Yes   4.1  Banashankari   \n",
       "1             Spice Elephant          Yes         No   4.1  Banashankari   \n",
       "2            San Churro Cafe          Yes         No   3.8  Banashankari   \n",
       "3      Addhuri Udupi Bhojana           No         No   3.7  Banashankari   \n",
       "4              Grand Village           No         No   3.8  Basavanagudi   \n",
       "...                      ...          ...        ...   ...           ...   \n",
       "48856       Flavors of India          Yes        Yes   3.7     Bellandur   \n",
       "48858                Monsoon           No         No   2.8     Bellandur   \n",
       "48859   BISO - Citrus Hotels           No         No   3.0     Bellandur   \n",
       "48860         Chef's Gallery           No         No   3.5     Bellandur   \n",
       "48861                Palki's           No         No   3.0     Bellandur   \n",
       "\n",
       "                 rest_type                                 cuisines  \\\n",
       "0            Casual Dining           North Indian, Mughlai, Chinese   \n",
       "1            Casual Dining              Chinese, North Indian, Thai   \n",
       "2      Cafe, Casual Dining                   Cafe, Mexican, Italian   \n",
       "3              Quick Bites               South Indian, North Indian   \n",
       "4            Casual Dining                 North Indian, Rajasthani   \n",
       "...                    ...                                      ...   \n",
       "48856        Casual Dining  Chinese, North Indian, Salad, Fast Food   \n",
       "48858           Food Court                              Continental   \n",
       "48859        Casual Dining    North Indian, Italian, Chinese, Asian   \n",
       "48860        Casual Dining           Chinese, Italian, North Indian   \n",
       "48861        Casual Dining                    North Indian, Biryani   \n",
       "\n",
       "       approx_cost(for two people) listed_in(type)  \n",
       "0                              800          Buffet  \n",
       "1                              800          Buffet  \n",
       "2                              800          Buffet  \n",
       "3                              300          Buffet  \n",
       "4                              600          Buffet  \n",
       "...                            ...             ...  \n",
       "48856                         1500          Buffet  \n",
       "48858                         1000          Buffet  \n",
       "48859                         1000          Buffet  \n",
       "48860                          700          Buffet  \n",
       "48861                          800          Buffet  \n",
       "\n",
       "[866 rows x 9 columns]"
      ]
     },
     "execution_count": 27,
     "metadata": {},
     "output_type": "execute_result"
    }
   ],
   "source": [
    "buffet"
   ]
  },
  {
   "cell_type": "code",
   "execution_count": 28,
   "id": "e779cff0",
   "metadata": {},
   "outputs": [],
   "source": [
    "percent_online_orders = df['online_order'].value_counts()"
   ]
  },
  {
   "cell_type": "code",
   "execution_count": 29,
   "id": "30bf8953",
   "metadata": {},
   "outputs": [
    {
     "data": {
      "text/plain": [
       "Yes    28202\n",
       "No     15331\n",
       "Name: online_order, dtype: int64"
      ]
     },
     "execution_count": 29,
     "metadata": {},
     "output_type": "execute_result"
    }
   ],
   "source": [
    "percent_online_orders"
   ]
  },
  {
   "cell_type": "code",
   "execution_count": 30,
   "id": "0da759c1",
   "metadata": {},
   "outputs": [],
   "source": [
    "online_order_available = percent_online_orders[0]\n",
    "online_order_not_available = percent_online_orders[1]\n",
    "\n",
    "online_order_percentage = online_order_available*100 / (online_order_not_available + online_order_available)"
   ]
  },
  {
   "cell_type": "code",
   "execution_count": 31,
   "id": "0cfbd66a",
   "metadata": {},
   "outputs": [
    {
     "data": {
      "text/plain": [
       "64.7830381549629"
      ]
     },
     "execution_count": 31,
     "metadata": {},
     "output_type": "execute_result"
    }
   ],
   "source": [
    "online_order_percentage"
   ]
  },
  {
   "cell_type": "markdown",
   "id": "a450b65e",
   "metadata": {},
   "source": [
    "## Hence we can conclude that 64.78 percent of the  buffet restaurants provide online order facility"
   ]
  },
  {
   "cell_type": "markdown",
   "id": "2a2c869a",
   "metadata": {},
   "source": [
    "# Average cost of each cuisine"
   ]
  },
  {
   "cell_type": "code",
   "execution_count": 34,
   "id": "46a1ff4c",
   "metadata": {},
   "outputs": [],
   "source": [
    "cuisine_average_cost = {}\n",
    "cuisines = df['listed_in(type)'].unique()"
   ]
  },
  {
   "cell_type": "code",
   "execution_count": 35,
   "id": "1d6e8e78",
   "metadata": {},
   "outputs": [
    {
     "data": {
      "text/plain": [
       "array(['Buffet', 'Cafes', 'Delivery', 'Desserts', 'Dine-out',\n",
       "       'Drinks & nightlife', 'Pubs and bars'], dtype=object)"
      ]
     },
     "execution_count": 35,
     "metadata": {},
     "output_type": "execute_result"
    }
   ],
   "source": [
    "cuisines"
   ]
  },
  {
   "cell_type": "code",
   "execution_count": 36,
   "id": "730e9153",
   "metadata": {},
   "outputs": [],
   "source": [
    "for cuisine in cuisines:\n",
    "    if cuisine not in cuisine_average_cost.keys():\n",
    "        cuisine_average_cost[cuisine] = 0\n"
   ]
  },
  {
   "cell_type": "code",
   "execution_count": 52,
   "id": "2b1e0245",
   "metadata": {},
   "outputs": [],
   "source": [
    "for cuisine in cuisine_average_cost.keys():\n",
    "    avg = df[df['listed_in(type)'].str.contains(cuisine)]\n",
    "    cuisine_average_cost[cuisine] = avg['approx_cost(for two people)'].mean()"
   ]
  },
  {
   "cell_type": "code",
   "execution_count": 53,
   "id": "570c3b7f",
   "metadata": {},
   "outputs": [
    {
     "data": {
      "text/plain": [
       "{'Buffet': 1310.392609699769,\n",
       " 'Cafes': 639.2699811202014,\n",
       " 'Delivery': 488.90978762696216,\n",
       " 'Desserts': 407.5289575289575,\n",
       " 'Dine-out': 644.2996764626585,\n",
       " 'Drinks & nightlife': 1451.677539608574,\n",
       " 'Pubs and bars': 1329.8484848484848}"
      ]
     },
     "execution_count": 53,
     "metadata": {},
     "output_type": "execute_result"
    }
   ],
   "source": [
    "cuisine_average_cost"
   ]
  },
  {
   "cell_type": "code",
   "execution_count": 40,
   "id": "2f738445",
   "metadata": {},
   "outputs": [],
   "source": [
    "keys = list(cuisine_average_cost.keys())\n",
    "vals = list(cuisine_average_cost.values())"
   ]
  },
  {
   "cell_type": "code",
   "execution_count": 41,
   "id": "d462651e",
   "metadata": {},
   "outputs": [
    {
     "data": {
      "text/plain": [
       "([0, 1, 2, 3, 4, 5, 6],\n",
       " [Text(0, 0, ''),\n",
       "  Text(0, 0, ''),\n",
       "  Text(0, 0, ''),\n",
       "  Text(0, 0, ''),\n",
       "  Text(0, 0, ''),\n",
       "  Text(0, 0, ''),\n",
       "  Text(0, 0, '')])"
      ]
     },
     "execution_count": 41,
     "metadata": {},
     "output_type": "execute_result"
    },
    {
     "data": {
      "image/png": "[encoded data removed]",
      "text/plain": [
       "<Figure size 432x288 with 1 Axes>"
      ]
     },
     "metadata": {
      "needs_background": "light"
     },
     "output_type": "display_data"
    }
   ],
   "source": [
    "plt.bar(keys,vals)\n",
    "plt.title('Average cost of each cuisine ( For two people) in INR')\n",
    "plt.xticks(rotation=75)"
   ]
  },
  {
   "cell_type": "code",
   "execution_count": null,
   "id": "6c4e7dce",
   "metadata": {},
   "outputs": [],
   "source": []
  }
 ],
 "metadata": {
  "kernelspec": {
   "display_name": "Python 3 (ipykernel)",
   "language": "python",
   "name": "python3"
  },
  "language_info": {
   "codemirror_mode": {
    "name": "ipython",
    "version": 3
   },
   "file_extension": ".py",
   "mimetype": "text/x-python",
   "name": "python",
   "nbconvert_exporter": "python",
   "pygments_lexer": "ipython3",
   "version": "3.9.8"
  }
 },
 "nbformat": 4,
 "nbformat_minor": 5
}
